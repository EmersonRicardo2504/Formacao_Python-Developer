{
  "nbformat": 4,
  "nbformat_minor": 0,
  "metadata": {
    "colab": {
      "provenance": [],
      "authorship_tag": "ABX9TyPppMUR7z4GInhEiBwvWUYA",
      "include_colab_link": true
    },
    "kernelspec": {
      "name": "python3",
      "display_name": "Python 3"
    },
    "language_info": {
      "name": "python"
    }
  },
  "cells": [
    {
      "cell_type": "markdown",
      "metadata": {
        "id": "view-in-github",
        "colab_type": "text"
      },
      "source": [
        "<a href=\"https://colab.research.google.com/github/EmersonRicardo2504/Formacao_Python-Developer/blob/main/Projeto_tratamento_de_dados.ipynb\" target=\"_parent\"><img src=\"https://colab.research.google.com/assets/colab-badge.svg\" alt=\"Open In Colab\"/></a>"
      ]
    },
    {
      "cell_type": "code",
      "execution_count": 35,
      "metadata": {
        "id": "KD_Wy6NnQJGa"
      },
      "outputs": [],
      "source": [
        "# Nessa parte será realizada a importação das bibliotecas.\n",
        "# Base de dados usada Ocorrencias_aerias\n",
        "\n",
        "import pandas as pd\n"
      ]
    },
    {
      "cell_type": "code",
      "source": [
        "# Realizando a passagem do caminho do arquivo.\n",
        "\n",
        "df = pd.read_csv(\"/content/ocorrencia_2010_202022.csv.csv\", sep= ';')\n",
        "print(df)\n"
      ],
      "metadata": {
        "id": "trRUO661TbiA"
      },
      "execution_count": null,
      "outputs": []
    },
    {
      "cell_type": "code",
      "source": [
        "# Imprimindo os primeiros cinco resultados\n",
        "\n",
        "df.head()\n"
      ],
      "metadata": {
        "id": "2BZF7R6vj6uh"
      },
      "execution_count": null,
      "outputs": []
    },
    {
      "cell_type": "code",
      "source": [
        "# Verificando tipos de dados no meu DataFrame.\n",
        "\n",
        "df.dtypes\n"
      ],
      "metadata": {
        "id": "CfDKFhzekhKx"
      },
      "execution_count": null,
      "outputs": []
    },
    {
      "cell_type": "code",
      "source": [
        "# Validando os valores nulos\n",
        "\n",
        "df.isnull().sum()\n",
        "\n",
        "# OBS: em ocorrência hora temos um erro, a coluna esta como object.\n"
      ],
      "metadata": {
        "id": "TfcuIicPlOFT"
      },
      "execution_count": null,
      "outputs": []
    },
    {
      "cell_type": "code",
      "source": [
        "# Realizando limpeza dos dados nulos\n",
        "\n",
        "df['ocorrencia_hora'].fillna(0, inplace=True)"
      ],
      "metadata": {
        "id": "tDZnOdkEsVQq"
      },
      "execution_count": 40,
      "outputs": []
    },
    {
      "cell_type": "code",
      "source": [
        "# Validando se há erros novamente\n",
        "\n",
        "df.isnull().sum()\n",
        "\n",
        "# Validado que os valores incorretos foram substituidos.\n"
      ],
      "metadata": {
        "id": "4qiof83mojBI"
      },
      "execution_count": null,
      "outputs": []
    },
    {
      "cell_type": "code",
      "source": [
        "# Validando qual cidade teve mais numero de acidentes\n",
        "\n",
        "df.nlargest(6, 'total_recomendacoes')"
      ],
      "metadata": {
        "id": "Xo8xmLCNuDfY"
      },
      "execution_count": null,
      "outputs": []
    },
    {
      "cell_type": "code",
      "source": [
        "# Realizando a validação pra ver qual o menor local com recomendações.\n",
        "\n",
        "df.nsmallest(6, 'total_recomendacoes')"
      ],
      "metadata": {
        "id": "WiZ7cQh3zITQ"
      },
      "execution_count": null,
      "outputs": []
    },
    {
      "cell_type": "code",
      "source": [
        "# Realizando agrupamento de dados por ocorrencia e recomendação\n",
        "\n",
        "df.groupby('ocorrencia_uf')['total_recomendacoes'].sum()"
      ],
      "metadata": {
        "id": "omcvwUCs0QmB"
      },
      "execution_count": null,
      "outputs": []
    },
    {
      "cell_type": "code",
      "source": [
        "# Até aqui obtivemos informações sobre a UF com mais incidentes\n",
        "# Será feita a conversão de object pra datetime\n",
        "# Iremos ver a quantidade exata de acidente em anos\n",
        "\n",
        "# Ocorrência_dia era object agora é datetime\n",
        "df['ocorrencia_dia'] = pd.to_datetime(df['ocorrencia_dia'], dayfirst=True)\n",
        "\n",
        "# Ocorrência_hora era object agora é datetime\n",
        "df['ocorrencia_hora'] = pd.to_datetime(df['ocorrencia_hora'])"
      ],
      "metadata": {
        "id": "k0UimbvI2Hvp"
      },
      "execution_count": 62,
      "outputs": []
    },
    {
      "cell_type": "code",
      "source": [
        "# Realizando agrupamento pelo ano e quantidade de ocorrências\n",
        "\n",
        "df.groupby(df['ocorrencia_dia'].dt.year)['total_recomendacoes'].sum()"
      ],
      "metadata": {
        "id": "kWazgvye5oHY"
      },
      "execution_count": null,
      "outputs": []
    },
    {
      "cell_type": "code",
      "source": [
        "# Criando variavel quantidade de acidentes no semestre\n",
        "\n",
        "df['Acidente_trimestre'] = df['ocorrencia_dia'].dt.quarter\n",
        "\n"
      ],
      "metadata": {
        "id": "km8Chira7xSW"
      },
      "execution_count": 63,
      "outputs": []
    },
    {
      "cell_type": "code",
      "source": [
        "# Realizando impressão de dados do trimestre.\n",
        "\n",
        "df.sample(5)"
      ],
      "metadata": {
        "id": "QImMrzwP-Ywv"
      },
      "execution_count": null,
      "outputs": []
    },
    {
      "cell_type": "code",
      "source": [
        "# Realizando elaboração de saida de dados com graficos e listas.\n",
        "\n",
        "df['ocorrencia_dia'].value_counts(ascending=False)\n"
      ],
      "metadata": {
        "id": "6hHf-eXk-1nf"
      },
      "execution_count": null,
      "outputs": []
    },
    {
      "cell_type": "code",
      "source": [
        "# Visualizando dados em gráficos\n",
        "# Importando a biblioteca pyplot\n",
        "# Fazendo alteração de cores, incluindo legenda e valores no gráfico\n",
        "\n",
        "import matplotlib.pyplot as plt\n",
        "\n",
        "df['ocorrencia_uf'].value_counts(ascending=True).plot.bar(title='Ocorrências', color='blue')\n",
        "plt.xlabel('ocorrencia_uf', color='red')\n",
        "plt.ylabel('total_recomendacoes', color='red')\n",
        "plt.legend()\n",
        "\n",
        "# Para salvar o projeto incluir\n",
        "\n",
        "# plt.savefig(\"Teste.png\")"
      ],
      "metadata": {
        "id": "h3l7rZ908SFc"
      },
      "execution_count": null,
      "outputs": []
    }
  ]
}
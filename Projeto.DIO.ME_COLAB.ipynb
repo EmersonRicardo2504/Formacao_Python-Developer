!pip install flask_ngrok
!pip install flask


#Importanto bibliotecas que iremos usar

from flask import *
from flask_ngrok import run_with_ngrok
app = Flask(__name__)
@app.route('/index')


def home():
  return "<marquee><H3></H3><marquee>"


# Passando banco de dados

user_1 = {
          "Nome": "Mahesh",
          "Age" : 25,
          "City" : "Bangalore",
          "Country" : "India"
          }

user_2 =  {
          "Nome" : "Alex",
          "Age" : 26,
          "City" : "London",
          "Country" : "UK"
           }

user_3 = {
          "Nome" : "David",
          "Age" : 27,
          "City" : "São Francisco",
          "Country" : "USA"
          }

user_4 = {
          "Nome" : "John",
          "Age" : 28,
          "City" : "Toronto",
          "Country" : "Canada"
          }

user_5 = {
          "Nome" : "Chris",
          "Age" : 29,
          "City" : "Canada",
          "Country" : "France"
          }


#  Criando conexão//printando banco de dados// OBS:Usar '/index' na URL.  

!pip install fastapi nest_asyncio pyngrok uvicorn

from fastapi import FastAPI
from pyngrok import ngrok
import uvicorn
import nest_asyncio

app = FastAPI()

@app.get('/index')
async def home():
  return user_1, '\n', user_2,'\n', user_3, '\n', user_4, '\n', user_5

# prof deixei essa saída aqui porem não tenho certeza se realmente há necessaide
# aparentemente com a função app.GET já consigo retornar o banco de dados 
# já sem a opção do app.GET minha pagina aparenta dar error de detail not fund

@app.route('/output', methods=['GET', 'POST'])
def predJson():
  pred = r.choice(["positive","negative"])
  users = user_1, '\n', user_2,'\n', user_3, '\n', user_4, '\n', user_5
  
  users["prediction"]=pred
  return jsonify(users)

  run_with_ngrok(app)
  app.run()

ngrok_tunnel = ngrok.connect(8000)
print('Public URL:', ngrok_tunnel.public_url)
nest_asyncio.apply()
uvicorn.run(app, port=8000)
